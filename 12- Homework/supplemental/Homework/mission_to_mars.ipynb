{
 "cells": [
  {
   "cell_type": "code",
   "execution_count": 1,
   "metadata": {},
   "outputs": [],
   "source": [
    "# https://splinter.readthedocs.io/en/latest/elements-in-the-page.html#clicking-buttons\n",
    "from splinter import Browser\n",
    "from bs4 import BeautifulSoup"
   ]
  },
  {
   "cell_type": "code",
   "execution_count": 2,
   "metadata": {},
   "outputs": [],
   "source": [
    "driver_path = \"/usr/local/bin/chromedriver\"\n",
    "executable_path = {'executable_path': driver_path}\n",
    "browser = Browser('chrome', **executable_path, headless=False) # double asterisk unpacks the dictionary into arguments"
   ]
  },
  {
   "cell_type": "code",
   "execution_count": 4,
   "metadata": {},
   "outputs": [],
   "source": [
    "url = \"https://www.jpl.nasa.gov/spaceimages/?search=&category=Mars\"\n",
    "browser.visit(url)"
   ]
  },
  {
   "cell_type": "code",
   "execution_count": 5,
   "metadata": {},
   "outputs": [
    {
     "name": "stdout",
     "output_type": "stream",
     "text": [
      "[<splinter.driver.webdriver.WebDriverElement object at 0x10a5ca2b0>]\n"
     ]
    }
   ],
   "source": [
    "carousel_item = browser.find_by_css(\".carousel_item\")\n",
    "print(carousel_item)"
   ]
  },
  {
   "cell_type": "code",
   "execution_count": 6,
   "metadata": {},
   "outputs": [
    {
     "name": "stdout",
     "output_type": "stream",
     "text": [
      "<splinter.driver.webdriver.WebDriverElement object at 0x10a5ca2b0>\n"
     ]
    }
   ],
   "source": [
    "article = carousel_item[0]\n",
    "print(article)"
   ]
  },
  {
   "cell_type": "code",
   "execution_count": 8,
   "metadata": {},
   "outputs": [
    {
     "name": "stdout",
     "output_type": "stream",
     "text": [
      "<div class=\"default floating_text_area ms-layer\">\n",
      " <h2 class=\"category_title\">\n",
      " </h2>\n",
      " <h2 class=\"brand_title\">\n",
      "  FEATURED IMAGE\n",
      " </h2>\n",
      " <h1 class=\"media_feature_title\">\n",
      "  Eyes in the Sky\n",
      " </h1>\n",
      " <div class=\"description\">\n",
      " </div>\n",
      " <footer>\n",
      "  <a class=\"button fancybox\" data-description=\"NASA's Hubble and Spitzer telescopes combined to make these shape-shifting galaxies taking on the form of a giant mask. The icy blue eyes are actually the cores of two merging galaxies, called NGC 2207 and IC 2163, and the mask is their spiral arms.\" data-fancybox-group=\"images\" data-fancybox-href=\"/spaceimages/images/mediumsize/PIA08097_ip.jpg\" data-link=\"/spaceimages/details.php?id=PIA08097\" data-title=\"Eyes in the Sky\" id=\"full_image\">\n",
      "   FULL IMAGE\n",
      "  </a>\n",
      " </footer>\n",
      "</div>\n",
      "<div class=\"gradient_container_top\">\n",
      "</div>\n",
      "<div class=\"gradient_container_bottom\">\n",
      "</div>\n",
      "\n"
     ]
    }
   ],
   "source": [
    "#print(article.html)\n",
    "\n",
    "soup = BeautifulSoup(article.html, 'html.parser')\n",
    "\n",
    "print(soup.prettify())"
   ]
  },
  {
   "cell_type": "code",
   "execution_count": 12,
   "metadata": {},
   "outputs": [
    {
     "data": {
      "text/plain": [
       "'/spaceimages/images/mediumsize/PIA08097_ip.jpg'"
      ]
     },
     "execution_count": 12,
     "metadata": {},
     "output_type": "execute_result"
    }
   ],
   "source": [
    "soup.a.get('data-fancybox-href')"
   ]
  },
  {
   "cell_type": "code",
   "execution_count": null,
   "metadata": {},
   "outputs": [],
   "source": []
  }
 ],
 "metadata": {
  "kernelspec": {
   "display_name": "Python 3",
   "language": "python",
   "name": "python3"
  },
  "language_info": {
   "codemirror_mode": {
    "name": "ipython",
    "version": 3
   },
   "file_extension": ".py",
   "mimetype": "text/x-python",
   "name": "python",
   "nbconvert_exporter": "python",
   "pygments_lexer": "ipython3",
   "version": "3.6.8"
  }
 },
 "nbformat": 4,
 "nbformat_minor": 2
}
